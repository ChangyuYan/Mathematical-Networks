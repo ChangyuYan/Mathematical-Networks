{
 "cells": [
  {
   "cell_type": "markdown",
   "metadata": {},
   "source": [
    "# Author: Changyu Yan\n",
    "\n",
    "In this project, I will visualize and analyze some complex molecular network structures. "
   ]
  },
  {
   "cell_type": "code",
   "execution_count": 1,
   "metadata": {},
   "outputs": [],
   "source": [
    "from rdkit import Chem"
   ]
  },
  {
   "cell_type": "markdown",
   "metadata": {},
   "source": [
    "For Molecule 1, we choose **Melatonin**: "
   ]
  },
  {
   "cell_type": "code",
   "execution_count": 16,
   "metadata": {},
   "outputs": [],
   "source": [
    "smiles1 = 'CC(=O)NCCc1c[nH]c2ccc(OC)cc12'"
   ]
  },
  {
   "cell_type": "code",
   "execution_count": 17,
   "metadata": {},
   "outputs": [],
   "source": [
    "m1 = Chem.MolFromSmiles(smiles1)"
   ]
  },
  {
   "cell_type": "markdown",
   "metadata": {},
   "source": [
    "For Molecule 2, we choose **Cephalostatin-1**, which is a steroidic 13-ringed pyrazine with the empirical formula C54H74N2O10 isolated from the Indian Ocean hemichordate Cephalodiscus gilchristi: [[1]](#R1)"
   ]
  },
  {
   "cell_type": "code",
   "execution_count": 18,
   "metadata": {},
   "outputs": [],
   "source": [
    "smiles2 = 'CC(C)(O1)C[C@@H](O)[C@@]1(O2)[C@@H](C)[C@@H]3CC=C4[C@]3(C2)C(=O)C[C@H]5[C@H]4CC[C@@H](C6)[C@]5(C)Cc(n7)c6nc(C[C@@]89(C))c7C[C@@H]8CC[C@@H]%10[C@@H]9C[C@@H](O)[C@@]%11(C)C%10=C[C@H](O%12)[C@]%11(O)[C@H](C)[C@]%12(O%13)[C@H](O)C[C@@]%13(C)CO'"
   ]
  },
  {
   "cell_type": "code",
   "execution_count": 19,
   "metadata": {},
   "outputs": [],
   "source": [
    "m2 = Chem.MolFromSmiles(smiles2)"
   ]
  },
  {
   "cell_type": "markdown",
   "metadata": {},
   "source": [
    "MDL Mol Blocks of the two molecules: "
   ]
  },
  {
   "cell_type": "code",
   "execution_count": 4,
   "metadata": {
    "scrolled": false
   },
   "outputs": [
    {
     "name": "stdout",
     "output_type": "stream",
     "text": [
      "\n",
      "     RDKit          2D\n",
      "\n",
      " 17 18  0  0  0  0  0  0  0  0999 V2000\n",
      "   -6.1170   -7.0506    0.0000 C   0  0  0  0  0  0  0  0  0  0  0  0\n",
      "   -4.6904   -6.5871    0.0000 C   0  0  0  0  0  0  0  0  0  0  0  0\n",
      "   -3.5757   -7.5908    0.0000 O   0  0  0  0  0  0  0  0  0  0  0  0\n",
      "   -4.3786   -5.1199    0.0000 N   0  0  0  0  0  0  0  0  0  0  0  0\n",
      "   -2.9520   -4.6564    0.0000 C   0  0  0  0  0  0  0  0  0  0  0  0\n",
      "   -2.6401   -3.1891    0.0000 C   0  0  0  0  0  0  0  0  0  0  0  0\n",
      "   -1.2135   -2.7256    0.0000 C   0  0  0  0  0  0  0  0  0  0  0  0\n",
      "   -0.0000   -3.6073    0.0000 C   0  0  0  0  0  0  0  0  0  0  0  0\n",
      "    1.2135   -2.7256    0.0000 N   0  0  0  0  0  0  0  0  0  0  0  0\n",
      "    0.7500   -1.2990    0.0000 C   0  0  0  0  0  0  0  0  0  0  0  0\n",
      "    1.5000    0.0000    0.0000 C   0  0  0  0  0  0  0  0  0  0  0  0\n",
      "    0.7500    1.2990    0.0000 C   0  0  0  0  0  0  0  0  0  0  0  0\n",
      "   -0.7500    1.2990    0.0000 C   0  0  0  0  0  0  0  0  0  0  0  0\n",
      "   -1.5000    2.5981    0.0000 O   0  0  0  0  0  0  0  0  0  0  0  0\n",
      "   -0.7500    3.8971    0.0000 C   0  0  0  0  0  0  0  0  0  0  0  0\n",
      "   -1.5000    0.0000    0.0000 C   0  0  0  0  0  0  0  0  0  0  0  0\n",
      "   -0.7500   -1.2990    0.0000 C   0  0  0  0  0  0  0  0  0  0  0  0\n",
      "  1  2  1  0\n",
      "  2  3  2  0\n",
      "  2  4  1  0\n",
      "  4  5  1  0\n",
      "  5  6  1  0\n",
      "  6  7  1  0\n",
      "  7  8  2  0\n",
      "  8  9  1  0\n",
      "  9 10  1  0\n",
      " 10 11  2  0\n",
      " 11 12  1  0\n",
      " 12 13  2  0\n",
      " 13 14  1  0\n",
      " 14 15  1  0\n",
      " 13 16  1  0\n",
      " 16 17  2  0\n",
      " 17  7  1  0\n",
      " 17 10  1  0\n",
      "M  END\n",
      "\n"
     ]
    }
   ],
   "source": [
    "print(Chem.MolToMolBlock(m1))"
   ]
  },
  {
   "cell_type": "code",
   "execution_count": 5,
   "metadata": {
    "scrolled": false
   },
   "outputs": [
    {
     "name": "stdout",
     "output_type": "stream",
     "text": [
      "\n",
      "     RDKit          2D\n",
      "\n",
      " 66 78  0  0  0  0  0  0  0  0999 V2000\n",
      "    2.3907    1.0037    0.0000 C   0  0  0  0  0  0  0  0  0  0  0  0\n",
      "    1.2760    0.0000    0.0000 C   0  0  0  0  0  0  0  0  0  0  0  0\n",
      "    2.3907   -1.0037    0.0000 C   0  0  0  0  0  0  0  0  0  0  0  0\n",
      "    0.3943    1.2135    0.0000 O   0  0  0  0  0  0  0  0  0  0  0  0\n",
      "    0.3943   -1.2135    0.0000 C   0  0  0  0  0  0  0  0  0  0  0  0\n",
      "   -1.0323   -0.7500    0.0000 C   0  0  0  0  0  0  0  0  0  0  0  0\n",
      "   -2.0196   -1.6707    0.0000 O   0  0  0  0  0  0  0  0  0  0  0  0\n",
      "   -1.0323    0.7500    0.0000 C   0  0  0  0  0  0  0  0  0  0  0  0\n",
      "   -0.8755    2.2418    0.0000 O   0  0  0  0  0  0  0  0  0  0  0  0\n",
      "   -2.4026    0.1399    0.0000 C   0  0  0  0  0  0  0  0  0  0  0  0\n",
      "   -2.7063   -1.1755    0.0000 C   0  0  0  0  0  0  0  0  0  0  0  0\n",
      "   -3.6161    1.0216    0.0000 C   0  0  0  0  0  0  0  0  0  0  0  0\n",
      "   -5.0834    0.7097    0.0000 C   0  0  0  0  0  0  0  0  0  0  0  0\n",
      "   -5.8334    2.0087    0.0000 C   0  0  0  0  0  0  0  0  0  0  0  0\n",
      "   -4.8297    3.1235    0.0000 C   0  0  0  0  0  0  0  0  0  0  0  0\n",
      "   -3.4593    2.5134    0.0000 C   0  0  0  0  0  0  0  0  0  0  0  0\n",
      "   -2.0890    3.1235    0.0000 C   0  0  0  0  0  0  0  0  0  0  0  0\n",
      "   -2.8853    3.6797    0.0000 C   0  0  0  0  0  0  0  0  0  0  0  0\n",
      "   -0.9803    3.1892    0.0000 O   0  0  0  0  0  0  0  0  0  0  0  0\n",
      "   -2.9689    4.4754    0.0000 C   0  0  0  0  0  0  0  0  0  0  0  0\n",
      "   -3.7729    5.4969    0.0000 C   0  0  0  0  0  0  0  0  0  0  0  0\n",
      "   -4.9864    4.6152    0.0000 C   0  0  0  0  0  0  0  0  0  0  0  0\n",
      "   -6.3568    5.2253    0.0000 C   0  0  0  0  0  0  0  0  0  0  0  0\n",
      "   -6.5136    6.7171    0.0000 C   0  0  0  0  0  0  0  0  0  0  0  0\n",
      "   -5.3000    7.5988    0.0000 C   0  0  0  0  0  0  0  0  0  0  0  0\n",
      "   -5.4568    9.0906    0.0000 C   0  0  0  0  0  0  0  0  0  0  0  0\n",
      "   -3.9297    6.9887    0.0000 C   0  0  0  0  0  0  0  0  0  0  0  0\n",
      "   -2.5594    6.3786    0.0000 C   0  0  0  0  0  0  0  0  0  0  0  0\n",
      "   -2.7162    7.8704    0.0000 C   0  0  0  0  0  0  0  0  0  0  0  0\n",
      "   -2.8730    9.3622    0.0000 C   0  0  0  0  0  0  0  0  0  0  0  0\n",
      "   -1.6595   10.2438    0.0000 N   0  0  0  0  0  0  0  0  0  0  0  0\n",
      "   -4.2433    9.9723    0.0000 C   0  0  0  0  0  0  0  0  0  0  0  0\n",
      "   -4.4001   11.4641    0.0000 N   0  0  0  0  0  0  0  0  0  0  0  0\n",
      "   -3.1866   12.3457    0.0000 C   0  0  0  0  0  0  0  0  0  0  0  0\n",
      "   -3.3434   13.8375    0.0000 C   0  0  0  0  0  0  0  0  0  0  0  0\n",
      "   -2.1298   14.7192    0.0000 C   0  0  0  0  0  0  0  0  0  0  0  0\n",
      "   -3.5002   15.3293    0.0000 C   0  0  0  0  0  0  0  0  0  0  0  0\n",
      "   -1.8162   11.7356    0.0000 C   0  0  0  0  0  0  0  0  0  0  0  0\n",
      "   -0.6027   12.6173    0.0000 C   0  0  0  0  0  0  0  0  0  0  0  0\n",
      "   -0.7595   14.1091    0.0000 C   0  0  0  0  0  0  0  0  0  0  0  0\n",
      "    0.4540   14.9908    0.0000 C   0  0  0  0  0  0  0  0  0  0  0  0\n",
      "    0.2972   16.4825    0.0000 C   0  0  0  0  0  0  0  0  0  0  0  0\n",
      "   -1.0731   17.0927    0.0000 C   0  0  0  0  0  0  0  0  0  0  0  0\n",
      "   -2.2866   16.2110    0.0000 C   0  0  0  0  0  0  0  0  0  0  0  0\n",
      "   -3.6569   16.8211    0.0000 C   0  0  0  0  0  0  0  0  0  0  0  0\n",
      "   -3.8137   18.3129    0.0000 C   0  0  0  0  0  0  0  0  0  0  0  0\n",
      "   -5.1841   18.9230    0.0000 O   0  0  0  0  0  0  0  0  0  0  0  0\n",
      "   -2.6002   19.1945    0.0000 C   0  0  0  0  0  0  0  0  0  0  0  0\n",
      "   -3.8429   19.7220    0.0000 C   0  0  0  0  0  0  0  0  0  0  0  0\n",
      "   -1.2299   18.5844    0.0000 C   0  0  0  0  0  0  0  0  0  0  0  0\n",
      "   -0.2262   19.6992    0.0000 C   0  0  0  0  0  0  0  0  0  0  0  0\n",
      "   -0.9762   20.9982    0.0000 C   0  0  0  0  0  0  0  0  0  0  0  0\n",
      "   -0.8194   22.4900    0.0000 O   0  0  0  0  0  0  0  0  0  0  0  0\n",
      "   -2.4434   20.6863    0.0000 C   0  0  0  0  0  0  0  0  0  0  0  0\n",
      "   -3.7883   20.5687    0.0000 O   0  0  0  0  0  0  0  0  0  0  0  0\n",
      "   -3.1934   21.9854    0.0000 C   0  0  0  0  0  0  0  0  0  0  0  0\n",
      "   -4.6852   22.1422    0.0000 C   0  0  0  0  0  0  0  0  0  0  0  0\n",
      "   -2.1897   23.1001    0.0000 C   0  0  0  0  0  0  0  0  0  0  0  0\n",
      "   -3.5600   23.7102    0.0000 O   0  0  0  0  0  0  0  0  0  0  0  0\n",
      "   -1.1860   24.2148    0.0000 C   0  0  0  0  0  0  0  0  0  0  0  0\n",
      "    0.3058   24.0580    0.0000 O   0  0  0  0  0  0  0  0  0  0  0  0\n",
      "   -1.9360   25.5138    0.0000 C   0  0  0  0  0  0  0  0  0  0  0  0\n",
      "   -3.4033   25.2020    0.0000 C   0  0  0  0  0  0  0  0  0  0  0  0\n",
      "   -4.9033   25.2020    0.0000 C   0  0  0  0  0  0  0  0  0  0  0  0\n",
      "   -3.5600   26.6937    0.0000 C   0  0  0  0  0  0  0  0  0  0  0  0\n",
      "   -2.3465   27.5754    0.0000 O   0  0  0  0  0  0  0  0  0  0  0  0\n",
      "  1  2  1  0\n",
      "  2  3  1  0\n",
      "  2  4  1  0\n",
      "  2  5  1  0\n",
      "  5  6  1  0\n",
      "  6  7  1  1\n",
      "  6  8  1  0\n",
      "  8  9  1  6\n",
      "  8 10  1  0\n",
      " 10 11  1  1\n",
      " 10 12  1  0\n",
      " 12 13  1  6\n",
      " 13 14  1  0\n",
      " 14 15  2  0\n",
      " 15 16  1  0\n",
      " 16 17  1  1\n",
      " 16 18  1  0\n",
      " 18 19  2  0\n",
      " 18 20  1  0\n",
      " 21 20  1  1\n",
      " 21 22  1  0\n",
      " 22 23  1  6\n",
      " 23 24  1  0\n",
      " 25 24  1  1\n",
      " 25 26  1  0\n",
      " 25 27  1  0\n",
      " 27 28  1  1\n",
      " 27 29  1  0\n",
      " 29 30  1  0\n",
      " 30 31  1  0\n",
      " 30 32  2  0\n",
      " 32 33  1  0\n",
      " 33 34  2  0\n",
      " 34 35  1  0\n",
      " 35 36  1  0\n",
      " 36 37  1  1\n",
      " 34 38  1  0\n",
      " 38 39  1  0\n",
      " 40 39  1  1\n",
      " 40 41  1  0\n",
      " 41 42  1  0\n",
      " 43 42  1  6\n",
      " 43 44  1  0\n",
      " 44 45  1  1\n",
      " 45 46  1  0\n",
      " 46 47  1  1\n",
      " 46 48  1  0\n",
      " 48 49  1  1\n",
      " 48 50  1  0\n",
      " 50 51  2  0\n",
      " 52 51  1  1\n",
      " 52 53  1  0\n",
      " 52 54  1  0\n",
      " 54 55  1  6\n",
      " 54 56  1  0\n",
      " 56 57  1  6\n",
      " 56 58  1  0\n",
      " 58 59  1  1\n",
      " 58 60  1  0\n",
      " 60 61  1  1\n",
      " 60 62  1  0\n",
      " 62 63  1  0\n",
      " 63 64  1  1\n",
      " 63 65  1  0\n",
      " 65 66  1  0\n",
      "  8  4  1  0\n",
      " 17  9  1  0\n",
      " 16 12  1  0\n",
      " 22 15  1  0\n",
      " 27 21  1  0\n",
      " 32 26  1  0\n",
      " 38 31  2  0\n",
      " 40 36  1  0\n",
      " 44 36  1  0\n",
      " 50 43  1  0\n",
      " 54 48  1  0\n",
      " 58 53  1  0\n",
      " 63 59  1  0\n",
      "M  END\n",
      "\n"
     ]
    }
   ],
   "source": [
    "print(Chem.MolToMolBlock(m2))"
   ]
  },
  {
   "cell_type": "markdown",
   "metadata": {},
   "source": [
    "Now we can draw the network structures to have better visualization:"
   ]
  },
  {
   "cell_type": "code",
   "execution_count": 6,
   "metadata": {},
   "outputs": [],
   "source": [
    "from rdkit.Chem.Draw import IPythonConsole #Needed to show molecules\n",
    "from rdkit.Chem.Draw.MolDrawing import MolDrawing, DrawingOptions #Only needed if modifying defaults"
   ]
  },
  {
   "cell_type": "code",
   "execution_count": 7,
   "metadata": {},
   "outputs": [
    {
     "data": {
      "image/png": "[encoded data removed]",
      "text/plain": [
       "<rdkit.Chem.rdchem.Mol at 0x10c8e5080>"
      ]
     },
     "execution_count": 7,
     "metadata": {},
     "output_type": "execute_result"
    }
   ],
   "source": [
    "m1"
   ]
  },
  {
   "cell_type": "code",
   "execution_count": 8,
   "metadata": {},
   "outputs": [
    {
     "data": {
      "image/png": "[encoded data removed]",
      "text/plain": [
       "<rdkit.Chem.rdchem.Mol at 0x10c8e5260>"
      ]
     },
     "execution_count": 8,
     "metadata": {},
     "output_type": "execute_result"
    }
   ],
   "source": [
    "m2"
   ]
  },
  {
   "cell_type": "markdown",
   "metadata": {},
   "source": [
    "We can even twist the structures a little bit generate some random molecules:"
   ]
  },
  {
   "cell_type": "code",
   "execution_count": 14,
   "metadata": {},
   "outputs": [],
   "source": [
    "m3 = Chem.MolFromSmiles('CC(C)(O1)C[C@@H](O)[C@@]1(O2)[C@@H](C)[C@@H]3CC=C4[C@]3(C2)C(=O)C[C@H]5[C@H]4CC[C@@H](C6)[C@]5(C)Cc(n7)c6nc(C[C@@]89(C))c7C[C@@H]8CC[C@@H]%10[C@@H]9C[C@@H](O)[C@@]%11(C)C%10=C[C@H](O%12)[C@]%11(O)[C@H](C)[C@]%12(O%13)[C@H](O)C[C@@]%13(C)COCC(C)(O1)C[C@@H](O)[C@@]1(O2)[C@@H](C)[C@@H]3CC=C4[C@]3(C2)C(=O)C[C@H]5[C@H]4CC[C@@H](C6)[C@]5(C)Cc(n7)c6nc(C[C@@]89(C))c7C[C@@H]8CC[C@@H]%10[C@@H]9C[C@@H](O)[C@@]%11(C)C%10=C[C@H](O%12)[C@]%11(O)[C@H](C)[C@]%12(O%13)[C@H](O)C[C@@]%13(C)COCC(C)(O1)C[C@@H](O)[C@@]1(O2)[C@@H](C)[C@@H]3CC=C4[C@]3(C2)C(=O)C[C@H]5[C@H]4CC[C@@H](C6)[C@]5(C)Cc(n7)c6nc(C[C@@]89(C))c7C[C@@H]8CC[C@@H]%10[C@@H]9C[C@@H](O)[C@@]%11(C)C%10=C[C@H](O%12)[C@]%11(O)[C@H](C)[C@]%12(O%13)[C@H](O)C[C@@]%13(C)CO')"
   ]
  },
  {
   "cell_type": "code",
   "execution_count": 15,
   "metadata": {},
   "outputs": [
    {
     "data": {
      "image/png": "[encoded data removed]",
      "text/plain": [
       "<rdkit.Chem.rdchem.Mol at 0x10c8e5850>"
      ]
     },
     "execution_count": 15,
     "metadata": {},
     "output_type": "execute_result"
    }
   ],
   "source": [
    "m3"
   ]
  },
  {
   "cell_type": "markdown",
   "metadata": {},
   "source": [
    "# Analysis"
   ]
  },
  {
   "cell_type": "markdown",
   "metadata": {},
   "source": [
    "Count number of nodes from smiles"
   ]
  },
  {
   "cell_type": "code",
   "execution_count": 20,
   "metadata": {},
   "outputs": [],
   "source": [
    "def count_nodes(smiles):\n",
    "    res = 0\n",
    "    for char in smiles:\n",
    "        if 'A' < char and char < 'z':\n",
    "            res += 1\n",
    "    return res"
   ]
  },
  {
   "cell_type": "code",
   "execution_count": 22,
   "metadata": {},
   "outputs": [
    {
     "data": {
      "text/plain": [
       "20"
      ]
     },
     "execution_count": 22,
     "metadata": {},
     "output_type": "execute_result"
    }
   ],
   "source": [
    "# Number of nodes of m1:\n",
    "n1 = count_nodes(smiles1)\n",
    "n1"
   ]
  },
  {
   "cell_type": "code",
   "execution_count": 23,
   "metadata": {},
   "outputs": [
    {
     "data": {
      "text/plain": [
       "121"
      ]
     },
     "execution_count": 23,
     "metadata": {},
     "output_type": "execute_result"
    }
   ],
   "source": [
    "n2 = count_nodes(smiles2)\n",
    "n2"
   ]
  },
  {
   "cell_type": "markdown",
   "metadata": {},
   "source": [
    "# TODO:\n",
    "- Degrees\n",
    "- Centrality Measures"
   ]
  },
  {
   "cell_type": "code",
   "execution_count": null,
   "metadata": {},
   "outputs": [],
   "source": []
  }
 ],
 "metadata": {
  "kernelspec": {
   "display_name": "Python 3",
   "language": "python",
   "name": "python3"
  },
  "language_info": {
   "codemirror_mode": {
    "name": "ipython",
    "version": 3
   },
   "file_extension": ".py",
   "mimetype": "text/x-python",
   "name": "python",
   "nbconvert_exporter": "python",
   "pygments_lexer": "ipython3",
   "version": "3.6.8"
  }
 },
 "nbformat": 4,
 "nbformat_minor": 2
}
